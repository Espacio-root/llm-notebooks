{
  "cells": [
    {
      "cell_type": "code",
      "metadata": {
        "jukit_cell_id": "9CXzbHECem"
      },
      "source": [
        "from openai import OpenAI\n",
        "import os\n",
        "import time"
      ],
      "outputs": [],
      "execution_count": null
    },
    {
      "cell_type": "code",
      "metadata": {
        "jukit_cell_id": "LykzyBY3Ex"
      },
      "source": [
        "client = OpenAI(api_key=os.environ.get('OPENAI_API_KEY'))\n",
        "\n",
        "def get_response(book, author):\n",
        "    engine = 'gpt-3.5-turbo'\n",
        "    system_prompt = 'You are given a book along with its author. Your task is to summarize the book to the best of your abilities.'\n",
        "    user_prompt = 'Book: {}\\nAuthor: {}\\nSummary:'.format(book, author)\n",
        "\n",
        "    messages = [\n",
        "        {'role': 'system', 'content': system_prompt},\n",
        "        {'role': 'user', 'content': user_prompt},\n",
        "    ]\n",
        "    response = client.chat.completions.create(model=engine,\n",
        "    messages=messages,\n",
        "    max_tokens=100,\n",
        "    temperature=0.9)\n",
        "    \n",
        "    return response.choices[0].message.content.strip()\n",
        "\n",
        "print(get_response('Hyperion', 'Dan Simmons'))"
      ],
      "outputs": [
        {
          "output_type": "stream",
          "name": "stdout",
          "text": "\"Hyperion\" by Dan Simmons is a science fiction novel set in the distant future, where humanity has spread across multiple worlds. The story follows seven pilgrims who embark on a journey to the mysterious planet of Hyperion, where an enigmatic creature known as \"The Shrike,\" awaits them. Each pilgrim has their own unique story and reason for seeking out the Shrike, and as they share their tales during their pilgrimage, a deeper and interconnected narrative unfolds.\n\nThe book explores themes of time\n"
        }
      ],
      "execution_count": 1
    },
    {
      "cell_type": "code",
      "metadata": {
        "jukit_cell_id": "P5OQHPDvvj"
      },
      "source": [
        "client = OpenAI(api_key=os.environ.get('OPENAI_API_KEY'))\n",
        "\n",
        "def get_stream_response(book, author):\n",
        "    engine = 'gpt-3.5-turbo'\n",
        "    system_prompt = 'You are given a book along with its author. Your task is to summarize the book to the best of your abilities.'\n",
        "    user_prompt = 'Book: {}\\nAuthor: {}\\nSummary:'.format(book, author)\n",
        "\n",
        "    messages = [\n",
        "        {'role': 'system', 'content': system_prompt},\n",
        "        {'role': 'user', 'content': user_prompt},\n",
        "    ]\n",
        "    for resp in client.chat.completions.create(model=engine, messages=messages, max_tokens=100, temperature=0.9, stream=True):\n",
        "        yield resp.choices[0].delta.content if resp.choices[0].delta.content != None else ''\n",
        "\n",
        "for resp in get_stream_response('Atomic Habit', 'James Clear'):\n",
        "    print(resp, end='', flush=True)\n",
        "print('')"
      ],
      "outputs": [
        {
          "output_type": "stream",
          "name": "stdout",
          "text": "The book \"Atomic Habits\" by James Clear is a guide to effectively creating and sustaining positive habits. Clear argues that small, incremental changes can have a significant impact on our lives. He introduces the concept of \"atomic habits,\" which are tiny habits that are easy to implement and can lead to transformative results. Clear provides practical strategies and techniques for breaking bad habits, building new ones, and optimizing behavior. He emphasizes the importance of understanding the science behind habit formation and how to leverage it to our advantage\n"
        }
      ],
      "execution_count": 2
    },
    {
      "cell_type": "code",
      "metadata": {
        "jukit_cell_id": "gov1pyuSEH"
      },
      "source": [],
      "outputs": [],
      "execution_count": null
    }
  ],
  "metadata": {
    "anaconda-cloud": {},
    "kernelspec": {
      "display_name": "python",
      "language": "python",
      "name": "python3"
    }
  },
  "nbformat": 4,
  "nbformat_minor": 4
}