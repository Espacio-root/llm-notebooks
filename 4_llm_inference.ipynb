{
  "cells": [
    {
      "cell_type": "code",
      "metadata": {
        "jukit_cell_id": "weoPuWtZPp"
      },
      "source": [
        "from llama_cpp import Llama\n",
        "\n",
        "llm = Llama(model_path='../playground-llm/llama.cpp/models/quantized/7b/wizard-coder-q4_0.gguf')\n",
        "output = llm(\n",
        "    'Q: Name the planets in our solar system A: ',\n",
        "    max_tokens=1024,\n",
        "    stop=['Q:', '\\n'],\n",
        "    echo=True\n",
        ")\n",
        "output"
      ],
      "outputs": [
        {
          "output_type": "stream",
          "name": "stdout",
          "text": "\n"
        },
        {
          "output_type": "execute_result",
          "execution_count": 1,
          "data": {
            "text/plain": "{'id': 'cmpl-a7be6461-905c-4051-8456-50d5994f9d68',\n 'object': 'text_completion',\n 'created': 1701119197,\n 'model': '../playground-llm/llama.cpp/models/quantized/7b/wizard-coder-q4_0.gguf',\n 'choices': [{'text': 'Q: Name the planets in our solar system A: 1.Zygom, B: Uranus, C: Neptunus, D: Pluto',\n   'index': 0,\n   'logprobs': None,\n   'finish_reason': 'stop'}],\n 'usage': {'prompt_tokens': 14, 'completion_tokens': 23, 'total_tokens': 37}}"
          },
          "metadata": {}
        }
      ],
      "execution_count": 1
    },
    {
      "cell_type": "code",
      "metadata": {
        "jukit_cell_id": "Woy8gCPkdX"
      },
      "source": [
        "def construct_prompt(instruction: str) -> str:\n",
        "    prompt = '''Below is an instruction that describes a task. Write a response that appropriately completes the request.\n",
        "\n",
        "### Instruction:\n",
        "{instruction}\n",
        "\n",
        "### Response:'''\n",
        "\n",
        "    return prompt.format(instruction=instruction)\n",
        "\n",
        "def infer(prompt: str):\n",
        "    output = llm(\n",
        "        construct_prompt(prompt),\n",
        "        max_tokens=1024,\n",
        "        stop=['###'],\n",
        "        echo=True,\n",
        "    )\n",
        "    return output\n",
        "\n",
        "infer('Name the planets in our solar system.')"
      ],
      "outputs": [
        {
          "output_type": "stream",
          "name": "stdout",
          "text": "\n"
        },
        {
          "output_type": "execute_result",
          "execution_count": 2,
          "data": {
            "text/plain": "{'id': 'cmpl-1acb7d3b-d979-44ad-b7c5-b7739f7f0382',\n 'object': 'text_completion',\n 'created': 1701120183,\n 'model': '../playground-llm/llama.cpp/models/quantized/7b/wizard-coder-q4_0.gguf',\n 'choices': [{'text': \"Below is an instruction that describes a task. Write a response that appropriately completes the request.\\n\\n### Instruction:\\nName the planets in our solar system.\\n\\n### Response:Sun, Mercury, Venus, Earth, Mars, Jupiter, Saturn, Uranus, Neptune, Pluto and the Sun's moons - Mercury, Venus, Earth, Mars, Jupiter, Saturn, Uranus, Neptune, Pluto, and Mercury. \",\n   'index': 0,\n   'logprobs': None,\n   'finish_reason': 'stop'}],\n 'usage': {'prompt_tokens': 44, 'completion_tokens': 69, 'total_tokens': 113}}"
          },
          "metadata": {}
        }
      ],
      "execution_count": 2
    },
    {
      "cell_type": "code",
      "metadata": {
        "jukit_cell_id": "AmJIU1pCnh"
      },
      "source": [
        "def infer_stream(prompt: str):\n",
        "    output = llm(\n",
        "        construct_prompt(prompt),\n",
        "        max_tokens=1024,\n",
        "        stop=['###'],\n",
        "        echo=True,\n",
        "        stream=True,\n",
        "    )\n",
        "    for chunk in output:\n",
        "        o = chunk['choices'][0]['text']\n",
        "        print(o, end='', flush=True)\n",
        "    print()\n",
        "\n",
        "infer_stream('Name the planets in our solar system.')"
      ],
      "outputs": [
        {
          "output_type": "stream",
          "name": "stdout",
          "text": "S\nun\n,\n Earth\n,\n Moon\n,\n Mercur\ny\n,\n Ven\nus\n,\n Mars\n,\n Jup\niter\n,\n Sat\nurn\n,\n U\nran\nus\n,\n Ne\npt\nune\n,\n Pl\nuto\n,\n and\n the\n Sun\n-\near\nth\n-\nM\noon\n system\n.\n \n\n\n"
        }
      ],
      "execution_count": 3
    }
  ],
  "metadata": {
    "anaconda-cloud": {},
    "kernelspec": {
      "display_name": "python",
      "language": "python",
      "name": "python3"
    }
  },
  "nbformat": 4,
  "nbformat_minor": 4
}